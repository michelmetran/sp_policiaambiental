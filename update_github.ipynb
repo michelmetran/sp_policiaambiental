{
 "cells": [
  {
   "cell_type": "markdown",
   "id": "subjective-belgium",
   "metadata": {},
   "source": [
    "# Introdução"
   ]
  },
  {
   "cell_type": "code",
   "execution_count": null,
   "id": "approximate-henry",
   "metadata": {},
   "outputs": [],
   "source": [
    "import os"
   ]
  },
  {
   "cell_type": "markdown",
   "id": "floating-maldives",
   "metadata": {},
   "source": [
    "___\n",
    "\n",
    "# Encerramento"
   ]
  },
  {
   "cell_type": "markdown",
   "id": "senior-colony",
   "metadata": {},
   "source": [
    "## *Requirements*"
   ]
  },
  {
   "cell_type": "code",
   "execution_count": null,
   "id": "indie-israeli",
   "metadata": {},
   "outputs": [],
   "source": [
    "# Input\n",
    "inp = 'update_github.ipynb'\n",
    "\n",
    "# Output\n",
    "out = os.path.join(inp.split('.')[0])\n",
    "!jupyter-nbconvert $inp --to python --output $out\n",
    "\n",
    "print('-'*80)\n",
    "#!pipreqs '.' --force --debug\n",
    "\n",
    "print('-'*80)\n",
    "os.remove('{}.py'.format(out))\n",
    "print('Arquivo {}.py deletado com sucesso!'.format(out))"
   ]
  },
  {
   "cell_type": "markdown",
   "id": "suitable-adjustment",
   "metadata": {},
   "source": [
    "## *GitHub* this project"
   ]
  },
  {
   "cell_type": "code",
   "execution_count": null,
   "id": "interior-terrorist",
   "metadata": {},
   "outputs": [],
   "source": [
    "!nbstripout --install --attributes .gitattributes\n",
    "!git status\n",
    "!git add .\n",
    "!git commit -m 'Arrumações Gerais'\n",
    "!git push origin main"
   ]
  },
  {
   "cell_type": "code",
   "execution_count": null,
   "id": "skilled-metropolitan",
   "metadata": {},
   "outputs": [],
   "source": []
  }
 ],
 "metadata": {
  "kernelspec": {
   "display_name": "Python [conda env:pablocarreira-py38] *",
   "language": "python",
   "name": "conda-env-pablocarreira-py38-py"
  },
  "language_info": {
   "codemirror_mode": {
    "name": "ipython",
    "version": 3
   },
   "file_extension": ".py",
   "mimetype": "text/x-python",
   "name": "python",
   "nbconvert_exporter": "python",
   "pygments_lexer": "ipython3",
   "version": "3.8.8"
  }
 },
 "nbformat": 4,
 "nbformat_minor": 5
}
