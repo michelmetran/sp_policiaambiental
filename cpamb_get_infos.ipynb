{
 "cells": [
  {
   "cell_type": "markdown",
   "id": "424bdbb0",
   "metadata": {},
   "source": [
    "# Introdução"
   ]
  },
  {
   "cell_type": "code",
   "execution_count": null,
   "id": "d18a388c",
   "metadata": {},
   "outputs": [],
   "source": [
    "import os\n",
    "import time\n",
    "import requests\n",
    "#import numpy as np\n",
    "import pandas as pd\n",
    "#import urllib.parse\n",
    "from bs4 import BeautifulSoup"
   ]
  },
  {
   "cell_type": "markdown",
   "id": "8820499c",
   "metadata": {},
   "source": [
    "<br>\n",
    "\n",
    "# Função"
   ]
  },
  {
   "cell_type": "code",
   "execution_count": null,
   "id": "d551bfc7",
   "metadata": {},
   "outputs": [],
   "source": [
    "def rename_nome(x):\n",
    "    x = x.title()\n",
    "    x = x.strip()\n",
    "    dict_rename = {\n",
    "        # Nome\n",
    "        'Av ': 'Av. ',\n",
    "        'Av. ': 'Avenida ',\n",
    "        ' Joao ': ' João ',\n",
    "        'Ten.'    : 'Tenente',\n",
    "        ' Mal '    : ' Marechal ',\n",
    "        ' Dep '    : ' Deputado ',\n",
    "        \n",
    "        # Basics\n",
    "        ' Com '  : ' com ',\n",
    "        ' Sobre ': ' sobre ',\n",
    "        ' Da '   : ' da ',\n",
    "        ' De '   : ' de ',\n",
    "        ' Do '   : ' do ',\n",
    "        ' Das '  : ' das ',\n",
    "        ' Dos '  : ' dos ',\n",
    "        ' A '    : ' a ',\n",
    "        ' As '   : ' as ',\n",
    "        ' Ao '   : ' ao ',\n",
    "        ' Aos '  : ' aos ',\n",
    "        ' E '    : ' e ',\n",
    "        ' O '    : ' o ',\n",
    "        ' Os '   : ' os ',\n",
    "        \n",
    "        '(11) -' : '',\n",
    "        '( ) -'  : '',\n",
    "        'Fone: '  : '',\n",
    "        \n",
    "        \n",
    "        'Jd. '  : 'Jardim ',\n",
    "        'Jd.Paulistano': 'Jardim Paulistano',\n",
    "        'Jd '  : 'Jardim ',\n",
    "        'V. '   : 'Vila ',\n",
    "        'Vl '   : 'Vila ',\n",
    "        'Sta.': 'Santa',\n",
    "        'Stª ': 'Santa ',\n",
    "        'Pq. '   : 'Parque ',\n",
    "        'Res.': 'Residencial ',\n",
    "        'Dist.': 'Distrito',\n",
    "        'Arlindo Betio': '',\n",
    "        'Cach. ': 'Cachoeira ',\n",
    "        ' Sao ' : ' São ',\n",
    "        'Vila N.': 'Vila Nova',\n",
    "        'J.S. Marcos': 'Jardim São Marcos',\n",
    "        'Jardim-': 'Jardim -',\n",
    "        'Xxiii': 'XXIII',\n",
    "        'Ii': 'II',\n",
    "        'I.A.P.I.': 'IAPI',\n",
    "        \n",
    "        'Est ': 'Estrada ',\n",
    "        ' Dr ': ' Doutor ',\n",
    "        ' Cmt ': ' Comandante ',\n",
    "        ' Gov ': ' Governador ',\n",
    "        'Rodv ': 'Rodovia ',\n",
    "        'Rod ': 'Rodovia ',\n",
    "        'Rod.': 'Rodovia ',\n",
    "        ' Tres ': ' Três ',\n",
    "        'Tres ': 'Três ',\n",
    "        ' Sp ': ' SP ',\n",
    "        'S/,': '',\n",
    "        'S/N': '',\n",
    "        '+': ' + ',\n",
    "        'Pque': 'Parque',\n",
    "        'Tupy': 'Tupi',        \n",
    "        'Bosque Municipa': 'Bosque Municipal',\n",
    "        \n",
    "        # Nomes\n",
    "        'Goncalves': 'Gonçalves',\n",
    "        'Cuiaba': 'Cuiabá',\n",
    "        'Cananeia': 'Cananéia',\n",
    "        'Martim de Sa': 'Martim de Sá',\n",
    "        'Acacias':'Acácias',\n",
    "        'Jardim Independenci': 'Jardim Independência',\n",
    "        'Jardim Independenciaa': 'Jardim Independência',\n",
    "        'Ferroviaria': 'Ferroviária',\n",
    "        'Distrito Industria': 'Distrito Industrial',\n",
    "        'Distrito Industriall': 'Distrito Industrial',\n",
    "        'Alema': 'Alemã',\n",
    "        'Higienopolis': 'Higienópolis',\n",
    "        'Cordeiropolis': 'Cordeirópolis',        \n",
    "        'Apiai':'Apiaí',\n",
    "        'Aracatuba':'Araçatuba',\n",
    "        'Avare':'Avaré',\n",
    "        'Campos do Jordao':'Campos do Jordão',\n",
    "        'Fernandopolis': 'Fernandópolis',\n",
    "        'Guaratingueta': 'Guaratinguetá',\n",
    "        'Guaruja':'Guarujá',\n",
    "        'Itanhaem': 'Itanhaém',\n",
    "        'Jose Bonifacio': 'José Bonifácio',\n",
    "        'Jundiai': 'Jundiaí',\n",
    "        'Marilia': 'Marília',\n",
    "        'Penapolis': 'Penápolis',\n",
    "        'Presidente Epitacio': 'Presidente Epitácio',\n",
    "        'Ribeirao Preto': 'Ribeirão Preto',\n",
    "        'Santa Fe do Sul': 'Santa Fé do Sul',\n",
    "        'Abernessia': 'Abernéssia',\n",
    "        'Santa Rita P. Quatro': 'Santa Rita do Passa Quatro',\n",
    "        'Sao Carlos': 'São Carlos',\n",
    "        'Sao Joao da Boa Vista': 'São João da Boa Vista',\n",
    "        'Sao Jose do Rio Preto': 'São José do Rio Preto',\n",
    "        'Sao Jose dos Campos': 'São José dos Campos',\n",
    "        'Sao Paulo': 'São Paulo',\n",
    "        'Tatui': 'Tatuí',\n",
    "        'Taubate': 'Taubaté',\n",
    "        'Tupa': 'Tupã',\n",
    "        'Ipe': 'Ipê',\n",
    "        'D. Amelia': 'Dona Amélia',\n",
    "        'Parque Expos.': 'Parque de Exposições',\n",
    "        'Engº Goulart': 'Engenheiro Goulart',\n",
    "        'Rua Nelson B Badur': 'Rua Nelson Bhiri Badur',\n",
    "        'Amelia': 'Amélia',\n",
    "        \n",
    "        # Empty\n",
    "        'None' : '',\n",
    "        'none' : '',\n",
    "    }\n",
    "    for k, v in dict_rename.items():\n",
    "        x = x.replace(k, v)\n",
    "    x = x.replace('  ', ' ')\n",
    "    return x.strip()"
   ]
  },
  {
   "cell_type": "code",
   "execution_count": null,
   "id": "669ff3fa",
   "metadata": {},
   "outputs": [],
   "source": [
    "def get_infos(url):\n",
    "    # Get Data\n",
    "    r = requests.get(url)    \n",
    "    soup = BeautifulSoup(r.content, 'html.parser')\n",
    "\n",
    "    # Infos\n",
    "    info = soup.find('div',  attrs={'class':'adress'}).text\n",
    "    info = info.replace('\\r', '').replace('\\t', '').replace('CEP.', '')\n",
    "    info = info.strip().split('\\n')\n",
    "\n",
    "    # Dictionary\n",
    "    dict_end = {\n",
    "        'unidade' : info[0],\n",
    "        'endereco': info[1],\n",
    "        'bairro'  : info[2],\n",
    "        'cep'     : info[3],\n",
    "        'telefone': info[5],\n",
    "        'email'   : info[6],\n",
    "    }\n",
    "    return dict_end"
   ]
  },
  {
   "cell_type": "code",
   "execution_count": null,
   "id": "e884059c",
   "metadata": {},
   "outputs": [],
   "source": [
    "get_infos('https://www.policiamilitar.sp.gov.br/unidades/ambiental/opm/4410.html')"
   ]
  },
  {
   "cell_type": "markdown",
   "id": "097d0a59",
   "metadata": {},
   "source": [
    "<br>\n",
    "\n",
    "# Lista de Links\n",
    "\n",
    "Inicialmente peguei no site a lista dos links de todas as unidades da Polícia Ambiental espalhadas pelo Estado."
   ]
  },
  {
   "cell_type": "code",
   "execution_count": null,
   "id": "f4d7087e",
   "metadata": {},
   "outputs": [],
   "source": [
    "url = 'https://www.policiamilitar.sp.gov.br/unidades/ambiental/localize.html'\n",
    "\n",
    "# Get Data\n",
    "r = requests.get(url)\n",
    "soup = BeautifulSoup(r.content, 'html.parser')"
   ]
  },
  {
   "cell_type": "code",
   "execution_count": null,
   "id": "554461f2",
   "metadata": {},
   "outputs": [],
   "source": [
    "table = soup.find('ul',  attrs={'id':'myUL'})\n",
    "\n",
    "list_dicts = []\n",
    "for i in table.find_all('a', href=True):    \n",
    "    dict_cpamb = {\n",
    "        'municipio_cpamb': i.text,\n",
    "        'url': 'https://www.policiamilitar.sp.gov.br/unidades/ambiental/{}'.format(i['href']),\n",
    "    }\n",
    "    list_dicts.append(dict_cpamb)"
   ]
  },
  {
   "cell_type": "code",
   "execution_count": null,
   "id": "47448fea",
   "metadata": {},
   "outputs": [],
   "source": [
    "# Create Table from dictionarys\n",
    "df = pd.DataFrame.from_dict(list_dicts)\n",
    "\n",
    "# Save: SÓ USAR SE QUISER RESETAR\n",
    "#df.to_csv(os.path.join('data', 'tabs', 'tab_municipios.csv'), index=False)\n",
    "\n",
    "# Create Copy\n",
    "df_cpamb = df\n",
    "\n",
    "# Results\n",
    "df.head()"
   ]
  },
  {
   "cell_type": "markdown",
   "id": "d77e0cfc",
   "metadata": {},
   "source": [
    "# Loop Links\n",
    "\n",
    "Depois li a tabela que correlaciona o nome dos municípios, atribuidos pela Polícia Ambiental, com grafias variadas e falta de padronização, e o código do IBGE.\n",
    "\n",
    "Contatenei as tabelas. Dessa forma, consegui ter tudo em uma tabela só!"
   ]
  },
  {
   "cell_type": "code",
   "execution_count": null,
   "id": "dadad8d6",
   "metadata": {},
   "outputs": [],
   "source": [
    "# Create empty list\n",
    "list_addresses = []\n",
    "\n",
    "#df = df[0:4]  # For tests only\n",
    "for index, row in df.iterrows():\n",
    "    # Create Small Dictionary\n",
    "    dict_df = {\n",
    "        #'id_municipio': row['id_municipio'],\n",
    "        #'municipio_nome': row['municipio_nome'],\n",
    "        'municipio_cpamb': row['municipio_cpamb'],\n",
    "        'url': row['url'],\n",
    "    }\n",
    "    \n",
    "    # Get Addresses\n",
    "    list_address = get_infos(row['url'])\n",
    "    list_address = {**dict_df, **list_address}\n",
    "    list_addresses.append(list_address)"
   ]
  },
  {
   "cell_type": "markdown",
   "id": "61dfd80a",
   "metadata": {},
   "source": [
    "# Tabela Informações"
   ]
  },
  {
   "cell_type": "code",
   "execution_count": null,
   "id": "a256e1e0",
   "metadata": {},
   "outputs": [],
   "source": [
    "# Create Table from dictionarys\n",
    "df = pd.DataFrame.from_dict(list_addresses)\n",
    "\n",
    "# Split \n",
    "df[['id_batalhao', 'resto']] = df['unidade'].str.split('º Batalhão', expand=True, n=1)\n",
    "df[['id_cia', 'resto']] = df['resto'].str.split('ª Cia', expand=True, n=1)\n",
    "df[['id_pelotao', 'resto']] = df['resto'].str.split('º Pel', expand=True, n=1)\n",
    "df[['id_base', 'resto']] = df['resto'].str.split('ª Base', expand=True, n=1)\n",
    "\n",
    "# Split Bairro\n",
    "df['bairro'] = df['bairro'].str.replace('Braz Cubas, Mogi das Cruzes', 'Braz Cubas - Mogi das Cruzes')\n",
    "df[['bairro','municipio_sede']] = df['bairro'].str.split(' - ', expand=True, n=1)\n",
    "\n",
    "# Split Endereço\n",
    "df.loc[:, 'endereco'] = df['endereco'].str.rstrip('.')\n",
    "df['endereco'] = df['endereco'].str.replace('Nº', ', ')\n",
    "df['endereco'] = df['endereco'].str.replace('nº', ', ')\n",
    "df['endereco'] = df['endereco'].str.replace(' Km', ', Km')\n",
    "df['endereco'] = df['endereco'].str.replace(' km', ', Km')\n",
    "df[['endereco','numero']] = df['endereco'].str.split(', ', expand=True, n=1)\n",
    "df.loc[:, 'endereco'] = df['endereco'].str.rstrip(',')\n",
    "\n",
    "# Results\n",
    "df.head(2)"
   ]
  },
  {
   "cell_type": "code",
   "execution_count": null,
   "id": "9643ed0c",
   "metadata": {},
   "outputs": [],
   "source": [
    "# Adjust Table\n",
    "df.loc[:, 'endereco'] = df['endereco'].astype(str).apply(lambda x: rename_nome(x))\n",
    "df.loc[:, 'numero'] = df['numero'].astype(str).apply(lambda x: rename_nome(x))\n",
    "df.loc[:, 'bairro'] = df['bairro'].astype(str).apply(lambda x: rename_nome(x))\n",
    "df.loc[:, 'cep'] = df['cep'].astype(str).apply(lambda x: rename_nome(x))\n",
    "df.loc[:, 'cep'] = df['cep'].str.rstrip('-')\n",
    "df.loc[:, 'municipio_sede'] = df['municipio_sede'].astype(str).apply(lambda x: rename_nome(x))\n",
    "df.loc[:, 'telefone'] = df['telefone'].astype(str).apply(lambda x: rename_nome(x))\n",
    "df.loc[:, 'email'] = df['email'].astype(str).apply(lambda x: rename_nome(x))\n",
    "df.loc[:, 'email'] = df['email'].astype(str).apply(lambda x: str.lower(x))\n",
    "\n",
    "# \n",
    "df.loc[:, 'id_batalhao'] = df['id_batalhao'].astype(str).apply(lambda x: rename_nome(x))\n",
    "df.loc[:, 'id_cia'] = df['id_cia'].astype(str).apply(lambda x: rename_nome(x))\n",
    "df.loc[:, 'id_pelotao'] = df['id_pelotao'].astype(str).apply(lambda x: rename_nome(x))\n",
    "df.loc[:, 'id_base'] = df['id_base'].astype(str).apply(lambda x: rename_nome(x))\n",
    "\n",
    "# Results\n",
    "df.head(2)"
   ]
  },
  {
   "cell_type": "markdown",
   "id": "a80f95f3",
   "metadata": {},
   "source": [
    "<br>\n",
    "\n",
    "## Ajusta Base Operacional"
   ]
  },
  {
   "cell_type": "code",
   "execution_count": null,
   "id": "cbb4835c",
   "metadata": {},
   "outputs": [],
   "source": [
    "# Cria Coluna Unidade\n",
    "df['id_base_calc'] = df['id_base'].apply(lambda x: x if x == '1' else x if x == '2' else '0' if x == 'Marítimo' else '0' if x == 'Pesmar' else '0')\n",
    "df['id_unidade'] = df[['id_batalhao', 'id_cia', 'id_pelotao', 'id_base_calc']].apply(lambda x: ''.join(x), axis=1)"
   ]
  },
  {
   "cell_type": "markdown",
   "id": "e0a054f3",
   "metadata": {},
   "source": [
    "<br>\n",
    "\n",
    "## Ajusta Colunas"
   ]
  },
  {
   "cell_type": "code",
   "execution_count": null,
   "id": "2d239273",
   "metadata": {},
   "outputs": [],
   "source": [
    "df.columns"
   ]
  },
  {
   "cell_type": "code",
   "execution_count": null,
   "id": "c7e669f0",
   "metadata": {},
   "outputs": [],
   "source": [
    "df = df[[\n",
    "    #'id_municipio',\n",
    "    #'municipio_nome',\n",
    "    'municipio_cpamb',\n",
    "    'id_unidade',\n",
    "    'id_batalhao',\n",
    "    'id_cia',\n",
    "    'id_pelotao',\n",
    "    'id_base',\n",
    "    'endereco',\n",
    "    'numero',\n",
    "    'bairro',\n",
    "    'cep',\n",
    "    'municipio_sede',\n",
    "    'telefone',\n",
    "    'email',\n",
    "    'url',\n",
    "]]"
   ]
  },
  {
   "cell_type": "markdown",
   "id": "92d94d98",
   "metadata": {},
   "source": [
    "<br>\n",
    "\n",
    "## Save Table"
   ]
  },
  {
   "cell_type": "code",
   "execution_count": null,
   "id": "58d843bb",
   "metadata": {},
   "outputs": [],
   "source": [
    "# Save\n",
    "df.to_csv(\n",
    "    os.path.join('data', 'tabs', 'tab_municipio_cpamb_full.csv'),\n",
    "    index=False,\n",
    ")\n",
    "df_cpamb = df"
   ]
  },
  {
   "cell_type": "code",
   "execution_count": null,
   "id": "f52a0da4",
   "metadata": {},
   "outputs": [],
   "source": [
    "# Read Dataframe\n",
    "df = pd.read_csv(\n",
    "    os.path.join('data', 'tabs', 'tab_municipios.csv'),\n",
    ")\n",
    "\n",
    "# Merge\n",
    "df = pd.merge(\n",
    "    df,\n",
    "    df_cpamb,\n",
    "    how='left',\n",
    "    left_on='municipio_cpamb',\n",
    "    right_on='municipio_cpamb',\n",
    ")\n",
    "\n",
    "# \n",
    "cols = list(df.columns)\n",
    "df = df.groupby(cols[0:1])[cols[1:]].first().reset_index()\n",
    "\n",
    "# Results\n",
    "df.to_csv(\n",
    "    os.path.join('data', 'tabs', 'tab_municipio_cpamb.csv'),\n",
    "    index=False,\n",
    ")\n",
    "\n",
    "df.head()"
   ]
  },
  {
   "cell_type": "markdown",
   "id": "01badb4e",
   "metadata": {},
   "source": [
    "<br>\n",
    "\n",
    "# Exceções"
   ]
  },
  {
   "cell_type": "code",
   "execution_count": null,
   "id": "d8fd4bef",
   "metadata": {},
   "outputs": [],
   "source": [
    "list_mun_mar = [\n",
    "    'Bertioga (Mar)',\n",
    "    'Cananeia (Mar)',\n",
    "    'Caraguatatuba (Mar)',\n",
    "    'Cubatao (Mar)',\n",
    "    'Guaruja (mar)',\n",
    "    'Iguape (mar)',\n",
    "    'Ilha Comprida (mar)',\n",
    "    'Ilhabela (mar)',\n",
    "    'Itanhaem (mar)',\n",
    "    'Peruibe (mar)',\n",
    "    'Praia Grande (mar)',\n",
    "    'Santos (mar)',\n",
    "    'Sao Sebastiao (mar)',\n",
    "    'Sao Vicente (Mar)',\n",
    "    'Ubatuba (mar)',\n",
    "    'Sao Paulo (Leste)',\n",
    "    'Sao Paulo (Norte)',\n",
    "    'Iporanga',    \n",
    "]"
   ]
  },
  {
   "cell_type": "code",
   "execution_count": null,
   "id": "4c53e8b1",
   "metadata": {},
   "outputs": [],
   "source": []
  }
 ],
 "metadata": {
  "kernelspec": {
   "display_name": "Python [conda env:pablocarreira-py38] *",
   "language": "python",
   "name": "conda-env-pablocarreira-py38-py"
  },
  "language_info": {
   "codemirror_mode": {
    "name": "ipython",
    "version": 3
   },
   "file_extension": ".py",
   "mimetype": "text/x-python",
   "name": "python",
   "nbconvert_exporter": "python",
   "pygments_lexer": "ipython3",
   "version": "3.8.8"
  }
 },
 "nbformat": 4,
 "nbformat_minor": 5
}
