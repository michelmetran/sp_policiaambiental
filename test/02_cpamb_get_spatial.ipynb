{
 "cells": [
  {
   "cell_type": "markdown",
   "id": "cf45e9c4",
   "metadata": {},
   "source": [
    "<br>\n",
    "\n",
    "# Introdução"
   ]
  },
  {
   "cell_type": "code",
   "execution_count": null,
   "id": "9d4e5d36",
   "metadata": {},
   "outputs": [],
   "source": [
    "import os\n",
    "import time\n",
    "import random\n",
    "import shutil\n",
    "import requests\n",
    "\n",
    "import pandas as pd\n",
    "import geopandas as gpd\n",
    "\n",
    "from osgeo import ogr\n",
    "from zipfile import ZipFile\n",
    "from bs4 import BeautifulSoup"
   ]
  },
  {
   "cell_type": "markdown",
   "id": "3d4d7c30",
   "metadata": {},
   "source": [
    "<br>\n",
    "\n",
    "## Funções"
   ]
  },
  {
   "cell_type": "code",
   "execution_count": null,
   "id": "500fd911",
   "metadata": {},
   "outputs": [],
   "source": [
    "def get_download(url, filename, path):\n",
    "    # Define o nome do arquivo, com diretório, que será salvo\n",
    "    zipfile = os.path.join(path, filename)\n",
    "\n",
    "    # Faz o download do arquivo da 'url' e salva localmente com o nome do arquivo\n",
    "    r = requests.get(url, stream=True)\n",
    "    with open(zipfile, 'wb') as out:\n",
    "        for chunk in r.iter_content(chunk_size=128):\n",
    "            out.write(chunk)\n",
    "    print('File \"{}\" download in \"{}\" directory.'.format(filename, path))"
   ]
  },
  {
   "cell_type": "code",
   "execution_count": null,
   "id": "4a703a89",
   "metadata": {},
   "outputs": [],
   "source": [
    "def unzip(filename, path):\n",
    "    # Get dir of zipfile\n",
    "    zipfile = os.path.join(path, filename)\n",
    "    path = os.path.dirname(zipfile)\n",
    "\n",
    "    # Create a ZipFile Object\n",
    "    with ZipFile(zipfile, 'r') as zip_obj:\n",
    "        # Get a list of all archived file names from the zip\n",
    "        list_files = []\n",
    "        list_files = zip_obj.namelist()\n",
    "\n",
    "        # Iterate over the file names\n",
    "        for file in list_files:\n",
    "            name, ext = os.path.splitext(file)\n",
    "            zip_obj.extract(file, os.path.dirname(zipfile))\n",
    "            os.rename(os.path.join(path, file), os.path.join(path, os.path.splitext(filename)[0]+ext))\n",
    "            print('File \"{}\" extracted as \"{}\" in \"{}\" directory.'.format(file, os.path.splitext(filename)[0]+ext, path))\n",
    "\n",
    "    # Remove file\n",
    "    os.remove(zipfile)"
   ]
  },
  {
   "cell_type": "code",
   "execution_count": null,
   "id": "311d9711",
   "metadata": {},
   "outputs": [],
   "source": [
    "def rename_nome(x):\n",
    "    x = x.title()\n",
    "    x = x.strip()\n",
    "    dict_rename = {\n",
    "        '/': '-',\n",
    "        ' Da ': ' da ',\n",
    "        ' Do ': ' do ',\n",
    "        ' Das ': ' das ',\n",
    "        ' Dos ': ' dos ',\n",
    "        '4ªcpamb': '4ª Cpamb',\n",
    "        'Pelpamb': 'Pelotão Ambiental',\n",
    "        'Cpamb': 'Companhia Ambiental',\n",
    "        'Pres.Prudente': 'Presidente Prudente',\n",
    "        'Pres. Prudente': 'Presidente Prudente',\n",
    "    }\n",
    "    for k, v in dict_rename.items():\n",
    "        x = x.replace(k, v)\n",
    "    x = x.replace('  ', ' ')\n",
    "    return x.strip()"
   ]
  },
  {
   "cell_type": "markdown",
   "id": "d764e9c0",
   "metadata": {},
   "source": [
    "<br>\n",
    "\n",
    "# Dados Espaciais: DataGeo - Batalhões"
   ]
  },
  {
   "cell_type": "markdown",
   "id": "7d77ff2d",
   "metadata": {},
   "source": [
    "## *Download*"
   ]
  },
  {
   "cell_type": "code",
   "execution_count": null,
   "id": "daaa6907",
   "metadata": {},
   "outputs": [],
   "source": [
    "# Input\n",
    "url = 'http://datageo.ambiente.sp.gov.br/geoserver/datageo/BatalhaoPoliciaAmbiental2015/wfs?version=1.0.0&request=GetFeature&outputFormat=SHAPE-ZIP&typeName=BatalhaoPoliciaAmbiental2015'\n",
    "filename = 'sp_cpamb_batalhao.zip'\n",
    "path = os.path.join('data', 'shps')\n",
    "\n",
    "# Get Data\n",
    "get_download(url, filename, path)\n",
    "unzip(filename, path)"
   ]
  },
  {
   "cell_type": "code",
   "execution_count": null,
   "id": "e00d5ebb",
   "metadata": {},
   "outputs": [],
   "source": [
    "# Lê arquivo\n",
    "file = 'sp_cpamb_batalhao'\n",
    "shp = os.path.join('data', 'shps', '{}.shp'.format(file))\n",
    "gdf = gpd.read_file(shp)\n",
    "\n",
    "# Transforma Coordenadas\n",
    "gdf = gdf.to_crs(epsg=4326)\n",
    "\n",
    "# Renomeia colunas\n",
    "gdf.rename(\n",
    "    columns={\n",
    "        'Nome'  : 'batalhao',\n",
    "    },\n",
    "    inplace=True\n",
    ")\n",
    "\n",
    "# Renomeia Campos Coluna\n",
    "#gdf.loc[:, 'repdec_cod'] = gdf['repdec_cod'].astype(str).apply(lambda x: rename_nome(x))\n",
    "#gdf.loc[:, 'repdec_regiao'] = gdf['repdec_regiao'].astype(str).apply(lambda x: rename_nome(x))\n",
    "\n",
    "# Results\n",
    "display(gdf.head())\n",
    "gdf.plot()\n",
    "\n",
    "# Cria Cópia\n",
    "gdf_cpamb = gdf"
   ]
  },
  {
   "cell_type": "code",
   "execution_count": null,
   "id": "5c1263af",
   "metadata": {},
   "outputs": [],
   "source": [
    "# Deleta Shapefile\n",
    "file = 'sp_cpamb_batalhao'\n",
    "shp = os.path.join('data', 'shps', '{}.shp'.format(file))\n",
    "driver = ogr.GetDriverByName(\"ESRI Shapefile\")\n",
    "\n",
    "# Delete shapefile\n",
    "if os.path.exists(shp):\n",
    "    driver.DeleteDataSource(shp)\n",
    "\n",
    "# Delete other files\n",
    "for i in os.listdir(os.path.dirname(shp)):\n",
    "    if i.split('.')[0] == file:\n",
    "        os.remove(os.path.join('data', 'shps', i))"
   ]
  },
  {
   "cell_type": "markdown",
   "id": "bd1d0d7c",
   "metadata": {},
   "source": [
    "<br>\n",
    "\n",
    "## Convert to Points"
   ]
  },
  {
   "cell_type": "code",
   "execution_count": null,
   "id": "ff5d7d27",
   "metadata": {},
   "outputs": [],
   "source": [
    "# Lê arquivo\n",
    "gdf = gpd.read_file(\n",
    "    'https://raw.githubusercontent.com/michelmetran/sp/main/data/shps/sp_050k_wgs84.geojson',\n",
    ")\n",
    "\n",
    "# Transforma Coordenadas\n",
    "gdf = gdf.to_crs(epsg=4326)\n",
    "\n",
    "# Pega centroid\n",
    "gdf_geometry = gdf.representative_point()\n",
    "gdf['geometry'] = gdf_geometry\n",
    "\n",
    "# Results\n",
    "display(gdf.head())\n",
    "gdf.plot()"
   ]
  },
  {
   "cell_type": "markdown",
   "id": "a8e9ae61",
   "metadata": {},
   "source": [
    "<br>\n",
    "\n",
    "## Spatial Join"
   ]
  },
  {
   "cell_type": "code",
   "execution_count": null,
   "id": "2290f8c9",
   "metadata": {},
   "outputs": [],
   "source": [
    "# Intersect\n",
    "gdf_inter = gpd.sjoin(gdf, gdf_cpamb, how='inner', op='intersects')\n",
    "\n",
    "# Convert to Dataframe\n",
    "df = gdf_inter[['id_municipio', 'batalhao']].copy()\n",
    "\n",
    "# Results\n",
    "display(df.head())\n",
    "gdf_inter.plot()"
   ]
  },
  {
   "cell_type": "markdown",
   "id": "ece8b07e",
   "metadata": {},
   "source": [
    "<br>\n",
    "\n",
    "## Join Municípios"
   ]
  },
  {
   "cell_type": "code",
   "execution_count": null,
   "id": "c18c9ace",
   "metadata": {},
   "outputs": [],
   "source": [
    "# Lê o arquivo csv com o nome dos municípios\n",
    "df_mun = pd.read_csv(\n",
    "    'https://raw.githubusercontent.com/michelmetran/sp/main/data/tabs/tab_municipios.csv',\n",
    "    usecols=['id_municipio', 'municipio_nome']\n",
    ")\n",
    "\n",
    "# Merge\n",
    "df = pd.merge(\n",
    "    df_mun,\n",
    "    df,\n",
    "    how='left',\n",
    "    left_on='id_municipio',\n",
    "    right_on='id_municipio'\n",
    ")\n",
    "\n",
    "# Resultados\n",
    "df.head()"
   ]
  },
  {
   "cell_type": "code",
   "execution_count": null,
   "id": "24b5120b",
   "metadata": {},
   "outputs": [],
   "source": [
    "# Salva\n",
    "df.to_csv(\n",
    "    os.path.join('data', 'tabs', 'tab_municipio_cpamb_batalhao.csv'),\n",
    "    index=False,\n",
    ")\n",
    "\n",
    "# Resultados\n",
    "df.head()"
   ]
  },
  {
   "cell_type": "code",
   "execution_count": null,
   "id": "ff037eb4",
   "metadata": {},
   "outputs": [],
   "source": [
    "set(df['batalhao'])"
   ]
  },
  {
   "cell_type": "markdown",
   "id": "42afb406",
   "metadata": {},
   "source": [
    "<br>\n",
    "\n",
    "# Dados Espaciais: DataGeo - Companhias"
   ]
  },
  {
   "cell_type": "markdown",
   "id": "a5e4adc2",
   "metadata": {},
   "source": [
    "## *Download*"
   ]
  },
  {
   "cell_type": "code",
   "execution_count": null,
   "id": "923a2eca",
   "metadata": {},
   "outputs": [],
   "source": [
    "# Input\n",
    "url = 'http://datageo.ambiente.sp.gov.br/geoserver/datageo/CompanhiaPoliciaAmbiental2015/wfs?version=1.0.0&request=GetFeature&outputFormat=SHAPE-ZIP&typeName=CompanhiaPoliciaAmbiental2015'\n",
    "filename = 'sp_cpamb_cias.zip'\n",
    "path = os.path.join('data', 'shps')\n",
    "\n",
    "# Get Data\n",
    "get_download(url, filename, path)\n",
    "unzip(filename, path)"
   ]
  },
  {
   "cell_type": "code",
   "execution_count": null,
   "id": "3e291926",
   "metadata": {},
   "outputs": [],
   "source": [
    "# Lê arquivo\n",
    "file = 'sp_cpamb_cias'\n",
    "shp = os.path.join('data', 'shps', '{}.shp'.format(file))\n",
    "gdf = gpd.read_file(shp)\n",
    "\n",
    "# Transforma Coordenadas\n",
    "gdf = gdf.to_crs(epsg=4326)\n",
    "\n",
    "# Renomeia colunas\n",
    "gdf.rename(\n",
    "    columns={\n",
    "        'Nome'  : 'cia',\n",
    "    },\n",
    "    inplace=True\n",
    ")\n",
    "\n",
    "# Renomeia Campos Coluna\n",
    "gdf.loc[:, 'cia'] = gdf['cia'].astype(str).apply(lambda x: rename_nome(x))\n",
    "#gdf.loc[:, 'repdec_regiao'] = gdf['repdec_regiao'].astype(str).apply(lambda x: rename_nome(x))\n",
    "\n",
    "# Results\n",
    "display(gdf.head())\n",
    "gdf.plot()\n",
    "\n",
    "# Cria Cópia\n",
    "gdf_cpamb = gdf"
   ]
  },
  {
   "cell_type": "code",
   "execution_count": null,
   "id": "d37b6d5b",
   "metadata": {},
   "outputs": [],
   "source": [
    "# Deleta Shapefile\n",
    "file = 'sp_cpamb_cias'\n",
    "shp = os.path.join('data', 'shps', '{}.shp'.format(file))\n",
    "driver = ogr.GetDriverByName(\"ESRI Shapefile\")\n",
    "\n",
    "# Delete shapefile\n",
    "if os.path.exists(shp):\n",
    "    driver.DeleteDataSource(shp)\n",
    "\n",
    "# Delete other files\n",
    "for i in os.listdir(os.path.dirname(shp)):\n",
    "    if i.split('.')[0] == file:\n",
    "        os.remove(os.path.join('data', 'shps', i))"
   ]
  },
  {
   "cell_type": "markdown",
   "id": "4be8a5be",
   "metadata": {},
   "source": [
    "<br>\n",
    "\n",
    "## Convert to Points"
   ]
  },
  {
   "cell_type": "code",
   "execution_count": null,
   "id": "7da5352d",
   "metadata": {},
   "outputs": [],
   "source": [
    "# Lê arquivo\n",
    "gdf = gpd.read_file(\n",
    "    'https://raw.githubusercontent.com/michelmetran/sp/main/data/shps/sp_050k_wgs84.geojson',\n",
    ")\n",
    "\n",
    "# Transforma Coordenadas\n",
    "gdf = gdf.to_crs(epsg=4326)\n",
    "\n",
    "# Pega centroid\n",
    "gdf_geometry = gdf.representative_point()\n",
    "gdf['geometry'] = gdf_geometry\n",
    "\n",
    "# Results\n",
    "display(gdf.head())\n",
    "gdf.plot()"
   ]
  },
  {
   "cell_type": "markdown",
   "id": "69d6b50c",
   "metadata": {},
   "source": [
    "<br>\n",
    "\n",
    "## Spatial Join"
   ]
  },
  {
   "cell_type": "code",
   "execution_count": null,
   "id": "2862bae9",
   "metadata": {},
   "outputs": [],
   "source": [
    "# Intersect\n",
    "gdf_inter = gpd.sjoin(gdf, gdf_cpamb, how='inner', op='intersects')\n",
    "\n",
    "# Convert to Dataframe\n",
    "df = gdf_inter[['id_municipio', 'cia']].copy()\n",
    "\n",
    "# Results\n",
    "display(df.head())\n",
    "gdf_inter.plot()"
   ]
  },
  {
   "cell_type": "markdown",
   "id": "8cdd938d",
   "metadata": {},
   "source": [
    "<br>\n",
    "\n",
    "## Join Municípios"
   ]
  },
  {
   "cell_type": "code",
   "execution_count": null,
   "id": "28d1ec4d",
   "metadata": {},
   "outputs": [],
   "source": [
    "# Lê o arquivo csv com o nome dos municípios\n",
    "df_mun = pd.read_csv(\n",
    "    'https://raw.githubusercontent.com/michelmetran/sp/main/data/tabs/tab_municipios.csv',\n",
    "    usecols=['id_municipio', 'municipio_nome']\n",
    ")\n",
    "\n",
    "# Merge\n",
    "df = pd.merge(\n",
    "    df_mun,\n",
    "    df,\n",
    "    how='left',\n",
    "    left_on='id_municipio',\n",
    "    right_on='id_municipio'\n",
    ")\n",
    "\n",
    "# Resultados\n",
    "df.head()"
   ]
  },
  {
   "cell_type": "code",
   "execution_count": null,
   "id": "2f309a9e",
   "metadata": {},
   "outputs": [],
   "source": [
    "# Salva\n",
    "df.to_csv(\n",
    "    os.path.join('data', 'tabs', 'tab_municipio_cpamb_companhias.csv'),\n",
    "    index=False,\n",
    ")\n",
    "\n",
    "# Resultados\n",
    "df.head()"
   ]
  },
  {
   "cell_type": "code",
   "execution_count": null,
   "id": "a5e0bf40",
   "metadata": {},
   "outputs": [],
   "source": [
    "set(df['cia'])"
   ]
  },
  {
   "cell_type": "markdown",
   "id": "e142c6a2",
   "metadata": {},
   "source": [
    "<br>\n",
    "\n",
    "# Dados Espaciais: DataGeo - Pelotões"
   ]
  },
  {
   "cell_type": "markdown",
   "id": "e539dd8a",
   "metadata": {},
   "source": [
    "## *Download*"
   ]
  },
  {
   "cell_type": "code",
   "execution_count": null,
   "id": "9389ae5e",
   "metadata": {},
   "outputs": [],
   "source": [
    "# Input\n",
    "url = 'http://datageo.ambiente.sp.gov.br/geoserver/datageo/PelotaoPoliciaAmbiental2015/wfs?version=1.0.0&request=GetFeature&outputFormat=SHAPE-ZIP&typeName=PelotaoPoliciaAmbiental2015'\n",
    "filename = 'sp_cpamb_pel.zip'\n",
    "path = os.path.join('data', 'shps')\n",
    "\n",
    "# Get Data\n",
    "get_download(url, filename, path)\n",
    "unzip(filename, path)"
   ]
  },
  {
   "cell_type": "code",
   "execution_count": null,
   "id": "09bfee7e",
   "metadata": {},
   "outputs": [],
   "source": [
    "# Lê arquivo\n",
    "file = 'sp_cpamb_pel'\n",
    "shp = os.path.join('data', 'shps', '{}.shp'.format(file))\n",
    "gdf = gpd.read_file(shp)\n",
    "\n",
    "# Transforma Coordenadas\n",
    "gdf = gdf.to_crs(epsg=4326)\n",
    "\n",
    "# Renomeia colunas\n",
    "gdf.rename(\n",
    "    columns={\n",
    "        'Nome'  : 'pelotao',\n",
    "    },\n",
    "    inplace=True\n",
    ")\n",
    "\n",
    "# Renomeia Campos Coluna\n",
    "gdf.loc[:, 'pelotao'] = gdf['pelotao'].astype(str).apply(lambda x: rename_nome(x))\n",
    "#gdf.loc[:, 'repdec_regiao'] = gdf['repdec_regiao'].astype(str).apply(lambda x: rename_nome(x))\n",
    "\n",
    "# Results\n",
    "display(gdf.head())\n",
    "gdf.plot()\n",
    "\n",
    "# Cria Cópia\n",
    "gdf_cpamb = gdf"
   ]
  },
  {
   "cell_type": "code",
   "execution_count": null,
   "id": "b8f86d83",
   "metadata": {},
   "outputs": [],
   "source": [
    "# Deleta Shapefile\n",
    "file = 'sp_cpamb_cias'\n",
    "shp = os.path.join('data', 'shps', '{}.shp'.format(file))\n",
    "driver = ogr.GetDriverByName(\"ESRI Shapefile\")\n",
    "\n",
    "# Delete shapefile\n",
    "if os.path.exists(shp):\n",
    "    driver.DeleteDataSource(shp)\n",
    "\n",
    "# Delete other files\n",
    "for i in os.listdir(os.path.dirname(shp)):\n",
    "    if i.split('.')[0] == file:\n",
    "        os.remove(os.path.join('data', 'shps', i))"
   ]
  },
  {
   "cell_type": "markdown",
   "id": "212dfe89",
   "metadata": {},
   "source": [
    "<br>\n",
    "\n",
    "## Convert to Points"
   ]
  },
  {
   "cell_type": "code",
   "execution_count": null,
   "id": "cc64e618",
   "metadata": {},
   "outputs": [],
   "source": [
    "# Lê arquivo\n",
    "gdf = gpd.read_file(\n",
    "    'https://raw.githubusercontent.com/michelmetran/sp/main/data/shps/sp_050k_wgs84.geojson',\n",
    ")\n",
    "\n",
    "# Transforma Coordenadas\n",
    "gdf = gdf.to_crs(epsg=4326)\n",
    "\n",
    "# Pega centroid\n",
    "gdf_geometry = gdf.representative_point()\n",
    "gdf['geometry'] = gdf_geometry\n",
    "\n",
    "# Results\n",
    "display(gdf.head())\n",
    "gdf.plot()"
   ]
  },
  {
   "cell_type": "markdown",
   "id": "0975444b",
   "metadata": {},
   "source": [
    "<br>\n",
    "\n",
    "## Spatial Join"
   ]
  },
  {
   "cell_type": "code",
   "execution_count": null,
   "id": "2ee8a085",
   "metadata": {},
   "outputs": [],
   "source": [
    "# Intersect\n",
    "gdf_inter = gpd.sjoin(gdf, gdf_cpamb, how='inner', op='intersects')\n",
    "\n",
    "# Convert to Dataframe\n",
    "df = gdf_inter[['id_municipio', 'pelotao']].copy()\n",
    "\n",
    "# Results\n",
    "display(df.head())\n",
    "gdf_inter.plot()"
   ]
  },
  {
   "cell_type": "markdown",
   "id": "021487c7",
   "metadata": {},
   "source": [
    "<br>\n",
    "\n",
    "## Join Municípios"
   ]
  },
  {
   "cell_type": "code",
   "execution_count": null,
   "id": "208a9655",
   "metadata": {},
   "outputs": [],
   "source": [
    "# Lê o arquivo csv com o nome dos municípios\n",
    "df_mun = pd.read_csv(\n",
    "    'https://raw.githubusercontent.com/michelmetran/sp/main/data/tabs/tab_municipios.csv',\n",
    "    usecols=['id_municipio', 'municipio_nome']\n",
    ")\n",
    "\n",
    "# Merge\n",
    "df = pd.merge(\n",
    "    df_mun,\n",
    "    df,\n",
    "    how='left',\n",
    "    left_on='id_municipio',\n",
    "    right_on='id_municipio'\n",
    ")\n",
    "\n",
    "# Resultados\n",
    "df.head()"
   ]
  },
  {
   "cell_type": "code",
   "execution_count": null,
   "id": "38301e72",
   "metadata": {},
   "outputs": [],
   "source": [
    "# Salva\n",
    "df.to_csv(\n",
    "    os.path.join('data', 'tabs', 'tab_municipio_cpamb_pelotao.csv'),\n",
    "    index=False,\n",
    ")\n",
    "\n",
    "# Resultados\n",
    "df.head()"
   ]
  },
  {
   "cell_type": "code",
   "execution_count": null,
   "id": "5ef9cdec",
   "metadata": {},
   "outputs": [],
   "source": [
    "set(df['pelotao'])"
   ]
  },
  {
   "cell_type": "markdown",
   "id": "e9e11723",
   "metadata": {},
   "source": [
    "<br>\n",
    "\n",
    "# Geral"
   ]
  },
  {
   "cell_type": "code",
   "execution_count": null,
   "id": "2da42433",
   "metadata": {},
   "outputs": [],
   "source": [
    "# Lê o arquivo csv com o nome dos municípios\n",
    "df = pd.read_csv(\n",
    "    'https://raw.githubusercontent.com/michelmetran/sp/main/data/tabs/tab_municipios.csv',\n",
    "    usecols=['id_municipio', 'municipio_nome']\n",
    ")\n",
    "\n",
    "# Resultados\n",
    "df.head()"
   ]
  },
  {
   "cell_type": "code",
   "execution_count": null,
   "id": "5532e9d4",
   "metadata": {},
   "outputs": [],
   "source": [
    "# Batalhões\n",
    "df_bat = pd.read_csv(\n",
    "    os.path.join('data', 'tabs', 'tab_municipio_cpamb_batalhao.csv'),\n",
    "    usecols=['id_municipio', 'batalhao']\n",
    ")\n",
    "\n",
    "# Companhias\n",
    "df_cia = pd.read_csv(\n",
    "    os.path.join('data', 'tabs', 'tab_municipio_cpamb_companhias.csv'),\n",
    "    usecols=['id_municipio', 'cia']\n",
    ")\n",
    "\n",
    "# Pelotão\n",
    "df_pel = pd.read_csv(\n",
    "    os.path.join('data', 'tabs', 'tab_municipio_cpamb_pelotao.csv'),\n",
    "    usecols=['id_municipio', 'pelotao']\n",
    ")"
   ]
  },
  {
   "cell_type": "code",
   "execution_count": null,
   "id": "12328cdc",
   "metadata": {},
   "outputs": [],
   "source": [
    "# Batalhões\n",
    "df = pd.merge(\n",
    "    df,\n",
    "    df_bat,\n",
    "    how='left',\n",
    "    left_on='id_municipio',\n",
    "    right_on='id_municipio'\n",
    ")\n",
    "\n",
    "# Companhias\n",
    "df = pd.merge(\n",
    "    df,\n",
    "    df_cia,\n",
    "    how='left',\n",
    "    left_on='id_municipio',\n",
    "    right_on='id_municipio'\n",
    ")\n",
    "\n",
    "# Pelotão\n",
    "df = pd.merge(\n",
    "    df,\n",
    "    df_pel,\n",
    "    how='left',\n",
    "    left_on='id_municipio',\n",
    "    right_on='id_municipio'\n",
    ")"
   ]
  },
  {
   "cell_type": "code",
   "execution_count": null,
   "id": "f483c79a",
   "metadata": {},
   "outputs": [],
   "source": [
    "df[['id_batalhao', 'lixo']] = df['batalhao'].str.split('º', expand=True, n=1)\n",
    "df[['id_cia', 'lixo']] = df['cia'].str.split('ª', expand=True, n=1)\n",
    "df[['id_pelotao', 'lixo']] = df['pelotao'].str.split('°', expand=True, n=1)\n",
    "df['id_base'] = '0'\n",
    "\n",
    "df.columns"
   ]
  },
  {
   "cell_type": "code",
   "execution_count": null,
   "id": "d0c57122",
   "metadata": {},
   "outputs": [],
   "source": [
    "df['id_unidade'] = df[['id_batalhao', 'id_cia', 'id_pelotao', 'id_base']].apply(lambda x: ''.join(x), axis=1)"
   ]
  },
  {
   "cell_type": "code",
   "execution_count": null,
   "id": "8fb2a1d9",
   "metadata": {},
   "outputs": [],
   "source": [
    "df = df[[\n",
    "    'id_municipio',\n",
    "    'municipio_nome',\n",
    "    'id_unidade',\n",
    "    'id_batalhao',\n",
    "    'id_cia',\n",
    "    'id_pelotao',\n",
    "    'id_base',\n",
    "    'batalhao',\n",
    "    'cia',\n",
    "    'pelotao',\n",
    "]]"
   ]
  },
  {
   "cell_type": "code",
   "execution_count": null,
   "id": "d7643615",
   "metadata": {},
   "outputs": [],
   "source": [
    "# Salva\n",
    "df.to_csv(\n",
    "    os.path.join('data', 'tabs', 'tab_municipio_cpamb_datageo.csv'),\n",
    "    index=False,\n",
    ")\n",
    "\n",
    "# Resultados\n",
    "df.head()"
   ]
  },
  {
   "cell_type": "code",
   "execution_count": null,
   "id": "fd35c123",
   "metadata": {},
   "outputs": [],
   "source": [
    "os.remove(os.path.join('data', 'tabs', 'tab_municipio_cpamb_batalhao.csv'))\n",
    "os.remove(os.path.join('data', 'tabs', 'tab_municipio_cpamb_companhias.csv'))\n",
    "os.remove(os.path.join('data', 'tabs', 'tab_municipio_cpamb_pelotao.csv'))"
   ]
  },
  {
   "cell_type": "code",
   "execution_count": null,
   "id": "c921880d",
   "metadata": {},
   "outputs": [],
   "source": []
  }
 ],
 "metadata": {
  "kernelspec": {
   "display_name": "Python [conda env:pablocarreira-py38] *",
   "language": "python",
   "name": "conda-env-pablocarreira-py38-py"
  },
  "language_info": {
   "codemirror_mode": {
    "name": "ipython",
    "version": 3
   },
   "file_extension": ".py",
   "mimetype": "text/x-python",
   "name": "python",
   "nbconvert_exporter": "python",
   "pygments_lexer": "ipython3",
   "version": "3.8.8"
  },
  "toc-autonumbering": true
 },
 "nbformat": 4,
 "nbformat_minor": 5
}
